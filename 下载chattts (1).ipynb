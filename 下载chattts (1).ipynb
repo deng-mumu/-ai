{
 "cells": [
  {
   "cell_type": "code",
   "execution_count": null,
   "id": "e6d6372b-e3e8-4619-8a73-68eb59879fb9",
   "metadata": {},
   "outputs": [],
   "source": [
    "# 从Github下载ChatTTS\n",
    "!git clone https://github.com/2noise/ChatTTS.git"
   ]
  },
  {
   "cell_type": "code",
   "execution_count": null,
   "id": "eed557a2-dc19-4bcd-9ded-5f2e11d1d816",
   "metadata": {},
   "outputs": [],
   "source": [
    "# 进入目录下\n",
    "import os\n",
    "os.chdir('ChatTTS')"
   ]
  },
  {
   "cell_type": "code",
   "execution_count": null,
   "id": "6a776564-dc0c-4db3-9e06-d0dd4a24e754",
   "metadata": {},
   "outputs": [],
   "source": [
    "# 安装必要工具\n",
    "!pip install -r requirements.txt\n",
    "!pip install soundfile torchaudio pynini==2.1.5 nemo_text_processing gradio"
   ]
  },
  {
   "cell_type": "code",
   "execution_count": null,
   "id": "86647408-dcdd-4584-99e3-1b73414b02ee",
   "metadata": {},
   "outputs": [],
   "source": [
    "# 更换成旧版\n",
    "!git reset --hard 0359f28545c7285d7ec3d98ca25c1099e7890c4a"
   ]
  },
  {
   "cell_type": "code",
   "execution_count": null,
   "id": "fae06fde-cc8e-4b10-b6fa-77cde2120002",
   "metadata": {},
   "outputs": [],
   "source": [
    "# 修改代码\n",
    "# 将ChatTTS/core.py的143行到149行注释掉，效果如下：\n",
    "\n",
    "# if do_text_normalization:\n",
    "        #     for i, t in enumerate(text):\n",
    "        #         _lang = detect_language(t) if lang is None else lang\n",
    "        #         self.init_normalizer(_lang)\n",
    "        #         text[i] = self.normalizer[_lang](t)\n",
    "        #         if _lang == 'zh':\n",
    "        #             text[i] = apply_half2full_map(text[i])"
   ]
  },
  {
   "cell_type": "code",
   "execution_count": null,
   "id": "dcfe1b50-f7a3-4b1e-bf60-aaa190320ac2",
   "metadata": {},
   "outputs": [],
   "source": [
    "# 下载预训练模型\n",
    "chat = ChatTTS.Chat()\n",
    "chat.load_models(force_redownload=True)"
   ]
  },
  {
   "cell_type": "code",
   "execution_count": null,
   "id": "694fa129-d626-4348-80a7-21f1afe501ea",
   "metadata": {},
   "outputs": [],
   "source": [
    "# 下载不动修改下面的代码\n",
    "# 将ChatTTS/core.py的55行，添加endpoint='https://hf-mirror.com'，效果如下：\n",
    "\n",
    "# download_path = snapshot_download(repo_id=\"2Noise/ChatTTS\", allow_patterns=[\"*.pt\", \"*.yaml\"], endpoint='https://hf-mirror.com')"
   ]
  },
  {
   "cell_type": "code",
   "execution_count": null,
   "id": "4a05c8a6-348d-42d4-a412-ea7981f70320",
   "metadata": {},
   "outputs": [],
   "source": []
  },
  {
   "cell_type": "code",
   "execution_count": null,
   "id": "6ea842ba-7b5a-45d6-8847-596787bbe284",
   "metadata": {},
   "outputs": [],
   "source": [
    "参考的是https://github.com/TommyZihao/ChatTTS_Tutorials"
   ]
  }
 ],
 "metadata": {
  "kernelspec": {
   "display_name": "Python 3 (ipykernel)",
   "language": "python",
   "name": "python3"
  },
  "language_info": {
   "codemirror_mode": {
    "name": "ipython",
    "version": 3
   },
   "file_extension": ".py",
   "mimetype": "text/x-python",
   "name": "python",
   "nbconvert_exporter": "python",
   "pygments_lexer": "ipython3",
   "version": "3.10.14"
  }
 },
 "nbformat": 4,
 "nbformat_minor": 5
}
